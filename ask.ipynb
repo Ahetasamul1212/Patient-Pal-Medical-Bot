{
 "cells": [
  {
   "cell_type": "code",
   "execution_count": 2,
   "metadata": {},
   "outputs": [
    {
     "name": "stderr",
     "output_type": "stream",
     "text": [
      "C:\\Users\\Turjo\\AppData\\Local\\Temp\\ipykernel_18560\\720309597.py:9: UserWarning: DataFrame columns are not unique, some columns will be omitted.\n",
      "  medicine_lookup = data.set_index('brand name').T.to_dict()\n"
     ]
    }
   ],
   "source": [
    "import pandas as pd\n",
    "\n",
    "# Load and preprocess the dataset\n",
    "data = pd.read_csv(r\"E:\\MY_python_projects\\Medicine Recommendor\\archive (2)\\medicine.csv\")\n",
    "data.fillna(\"Not Available\", inplace=True)\n",
    "data['brand name'] = data['brand name'].str.lower()\n",
    "\n",
    "# Create a lookup dictionary\n",
    "medicine_lookup = data.set_index('brand name').T.to_dict()\n"
   ]
  },
  {
   "cell_type": "code",
   "execution_count": 3,
   "metadata": {},
   "outputs": [],
   "source": [
    "def query_medicine_model(user_input, lookup):\n",
    "    # Convert user input to lowercase for case-insensitive matching\n",
    "    tokens = user_input.lower().split()\n",
    "    \n",
    "    # Search for the medicine name in the tokens\n",
    "    for token in tokens:\n",
    "        if token in lookup:\n",
    "            details = lookup[token]\n",
    "            response = (\n",
    "                f\"**Medicine Details for {token.title()}**:\\n\"\n",
    "                f\"- Dosage Form: {details['dosage form']}\\n\"\n",
    "                f\"- Generic: {details['generic']}\\n\"\n",
    "                f\"- Strength: {details['strength']}\\n\"\n",
    "                f\"- Manufacturer: {details['manufacturer']}\\n\"\n",
    "                f\"- Package Info: {details['package container']}\"\n",
    "            )\n",
    "            return response\n",
    "    return \"Sorry, I couldn't find information about that medicine. Please try again.\"\n",
    "\n"
   ]
  },
  {
   "cell_type": "code",
   "execution_count": 4,
   "metadata": {},
   "outputs": [
    {
     "name": "stdout",
     "output_type": "stream",
     "text": [
      "**Medicine Details for A-Cold**:\n",
      "- Dosage Form: Syrup\n",
      "- Generic: Bromhexine Hydrochloride\n",
      "- Strength: 4 mg/5 ml\n",
      "- Manufacturer: ACME Laboratories Ltd.\n",
      "- Package Info: 100 ml bottle: ৳ 40.12\n",
      "**Medicine Details for A-Cold**:\n",
      "- Dosage Form: Syrup\n",
      "- Generic: Bromhexine Hydrochloride\n",
      "- Strength: 4 mg/5 ml\n",
      "- Manufacturer: ACME Laboratories Ltd.\n",
      "- Package Info: 100 ml bottle: ৳ 40.12\n",
      "Goodbye!\n"
     ]
    }
   ],
   "source": [
    "while True:\n",
    "    user_input = input(\"Ask me about a medicine (type 'exit' to quit): \")\n",
    "    if user_input.lower() == 'exit':\n",
    "        print(\"Goodbye!\")\n",
    "        break\n",
    "    \n",
    "    response = query_medicine_model(user_input, medicine_lookup)\n",
    "    print(response)\n"
   ]
  },
  {
   "cell_type": "code",
   "execution_count": null,
   "metadata": {},
   "outputs": [],
   "source": []
  }
 ],
 "metadata": {
  "kernelspec": {
   "display_name": "Python 3",
   "language": "python",
   "name": "python3"
  },
  "language_info": {
   "codemirror_mode": {
    "name": "ipython",
    "version": 3
   },
   "file_extension": ".py",
   "mimetype": "text/x-python",
   "name": "python",
   "nbconvert_exporter": "python",
   "pygments_lexer": "ipython3",
   "version": "3.12.8"
  }
 },
 "nbformat": 4,
 "nbformat_minor": 2
}
